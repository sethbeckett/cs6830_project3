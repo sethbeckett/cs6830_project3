{
 "cells": [
  {
   "attachments": {},
   "cell_type": "markdown",
   "metadata": {},
   "source": [
    "# Exploratory Data Analysis\n",
    "This project will be using stock market data via [alpaca.markets](https://alpaca.markets/). We are currently going to explore oil stocks and potential correlations between them and renewable energy stocks, as well as looking at how geopolitical events have affected them."
   ]
  },
  {
   "attachments": {},
   "cell_type": "markdown",
   "metadata": {},
   "source": [
    "### Connecting to the Alpaca's API\n",
    "Probably won't actually use, Alpaca is a lil weird and more in depth than we need rn"
   ]
  },
  {
   "cell_type": "code",
   "execution_count": null,
   "metadata": {},
   "outputs": [],
   "source": [
    "# from alpaca.data import StockHistoricalDataClient\n",
    "# from alpaca.data.requests import StockBarsRequest\n",
    "# from datetime import datetime\n",
    "\n",
    "# # keys required\n",
    "# stock_client = StockHistoricalDataClient(\"\",  \"\")"
   ]
  },
  {
   "attachments": {},
   "cell_type": "markdown",
   "metadata": {},
   "source": [
    "### Yahoo Finance Python API Wrapper\n",
    "Instead of Alpaca, we'll use this to easily get historical stock data from Yahoo Finance"
   ]
  },
  {
   "cell_type": "code",
   "execution_count": null,
   "metadata": {},
   "outputs": [],
   "source": [
    "import yfinance as yf\n",
    "import pandas as pd\n",
    "import matplotlib.pyplot as plt\n",
    "import seaborn as sns"
   ]
  },
  {
   "cell_type": "code",
   "execution_count": null,
   "metadata": {},
   "outputs": [],
   "source": [
    "# get stock data\n",
    "exxon = yf.download('XOM','2022-01-01','2023-01-01')\n",
    "nextera = yf.download(\"NEE\", '2022-01-01','2023-01-01')\n",
    "tesla = yf.download(\"TSLA\", '2022-01-01','2023-01-01')"
   ]
  },
  {
   "attachments": {},
   "cell_type": "markdown",
   "metadata": {},
   "source": [
    "Here we can see what information is included in each dataframe"
   ]
  },
  {
   "cell_type": "code",
   "execution_count": null,
   "metadata": {},
   "outputs": [],
   "source": [
    "# get a look at data layout\n",
    "nextera.head()"
   ]
  },
  {
   "attachments": {},
   "cell_type": "markdown",
   "metadata": {},
   "source": [
    "#### Looking for Trends & Insights"
   ]
  },
  {
   "cell_type": "code",
   "execution_count": null,
   "metadata": {},
   "outputs": [],
   "source": [
    "sns.set_theme(style=\"whitegrid\")\n",
    "\n",
    "sns.lineplot(data=nextera, x=\"Date\", y=\"Open\")\n",
    "plt.title(\"Nextera Opening Prices 2022\")\n",
    "plt.ylabel(\"Opening Price ($)\")"
   ]
  },
  {
   "cell_type": "code",
   "execution_count": null,
   "metadata": {},
   "outputs": [],
   "source": [
    "sns.lineplot(data=exxon, x=\"Date\", y=\"Open\")\n",
    "plt.title(\"Exxon Opening Prices 2022\")\n",
    "plt.ylabel(\"Opening Price ($)\")"
   ]
  },
  {
   "cell_type": "code",
   "execution_count": null,
   "metadata": {},
   "outputs": [],
   "source": [
    "sns.lineplot(data=tesla, x=\"Date\", y=\"Open\")\n",
    "plt.title(\"Tesla Opening Prices 2022\")\n",
    "plt.ylabel(\"Opening Price ($)\")"
   ]
  }
 ],
 "metadata": {
  "kernelspec": {
   "display_name": "Python 3",
   "language": "python",
   "name": "python3"
  },
  "language_info": {
   "codemirror_mode": {
    "name": "ipython",
    "version": 3
   },
   "file_extension": ".py",
   "mimetype": "text/x-python",
   "name": "python",
   "nbconvert_exporter": "python",
   "pygments_lexer": "ipython3",
   "version": "3.11.2"
  },
  "orig_nbformat": 4,
  "vscode": {
   "interpreter": {
    "hash": "aee8b7b246df8f9039afb4144a1f6fd8d2ca17a180786b69acc140d282b71a49"
   }
  }
 },
 "nbformat": 4,
 "nbformat_minor": 2
}
