{
 "cells": [
  {
   "attachments": {},
   "cell_type": "markdown",
   "metadata": {},
   "source": [
    "# Exploratory Data Analysis\n",
    "This project will be using stock market data via [alpaca.markets](https://alpaca.markets/). We are currently going to explore oil stocks and potential correlations between them and renewable energy stocks, as well as looking at how geopolitical events have affected them."
   ]
  },
  {
   "attachments": {},
   "cell_type": "markdown",
   "metadata": {},
   "source": [
    "### Connecting to the Alpaca's API"
   ]
  },
  {
   "cell_type": "code",
   "execution_count": null,
   "metadata": {},
   "outputs": [],
   "source": [
    "from alpaca.data import StockHistoricalDataClient\n",
    "from alpaca.data.requests import StockBarsRequest\n",
    "from datetime import date\n",
    "\n",
    "# keys required\n",
    "stock_client = StockHistoricalDataClient(\"PKJ58RVPMSFATZXH370Q\",  \"iA9KOJMz48emGEDTAzOFdgcJW8xhwQC0WRhRk8VI\")"
   ]
  },
  {
   "cell_type": "code",
   "execution_count": null,
   "metadata": {},
   "outputs": [],
   "source": [
    "# list the tickers of stocks we want data on and retrieve data (tesla, exxon, nextera energy)\n",
    "symbols = [\"TSLA\", \"XOM\", \"NEE\"]\n",
    "request_params = StockBarsRequest(symbol_or_symbols=symbols, start=date(2023, 1, 1), end=date(2023, 1, 31))\n",
    "\n",
    "stock_client.get_stock_bars(request_params)"
   ]
  }
 ],
 "metadata": {
  "kernelspec": {
   "display_name": "Python 3",
   "language": "python",
   "name": "python3"
  },
  "language_info": {
   "codemirror_mode": {
    "name": "ipython",
    "version": 3
   },
   "file_extension": ".py",
   "mimetype": "text/x-python",
   "name": "python",
   "nbconvert_exporter": "python",
   "pygments_lexer": "ipython3",
   "version": "3.11.2"
  },
  "orig_nbformat": 4,
  "vscode": {
   "interpreter": {
    "hash": "aee8b7b246df8f9039afb4144a1f6fd8d2ca17a180786b69acc140d282b71a49"
   }
  }
 },
 "nbformat": 4,
 "nbformat_minor": 2
}
