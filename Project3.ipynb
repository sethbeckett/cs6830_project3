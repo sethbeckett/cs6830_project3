{
 "cells": [
  {
   "attachments": {},
   "cell_type": "markdown",
   "metadata": {},
   "source": [
    "# Exploratory Data Analysis\n",
    "This project is used to do some simple analyses of two large ETF's in the energy sector, USO and ICLN. One is an oil ETF, the other a clean energy ETF."
   ]
  },
  {
   "attachments": {},
   "cell_type": "markdown",
   "metadata": {},
   "source": [
    "## Yahoo Finance Python API Wrapper\n",
    "Here we use a Yahoo Finance wrapper to easily access their API and pull in data on certain stocks, markets, and commodities"
   ]
  },
  {
   "cell_type": "code",
   "execution_count": null,
   "metadata": {},
   "outputs": [],
   "source": [
    "import yfinance as yf\n",
    "import pandas as pd\n",
    "import numpy as np\n",
    "import matplotlib.pyplot as plt\n",
    "import seaborn as sns\n",
    "from scipy.stats.mstats import pearsonr, ttest_ind\n",
    "from scipy import stats\n",
    "\n",
    "sns.set_theme(style=\"whitegrid\")"
   ]
  },
  {
   "cell_type": "code",
   "execution_count": null,
   "metadata": {},
   "outputs": [],
   "source": [
    "icln_5y = yf.download(\"ICLN\", '2018-01-01', '2023-01-01').reset_index()\n",
    "uso_5y = yf.download(\"USO\", '2018-01-01', '2023-01-01').reset_index()"
   ]
  },
  {
   "attachments": {},
   "cell_type": "markdown",
   "metadata": {},
   "source": [
    "## Data Trends"
   ]
  },
  {
   "attachments": {},
   "cell_type": "markdown",
   "metadata": {},
   "source": [
    "First, we'll look at a comparison of the oil and clean energy ETFs over the past 5 years."
   ]
  },
  {
   "cell_type": "code",
   "execution_count": null,
   "metadata": {},
   "outputs": [],
   "source": [
    "sns.lineplot(uso_5y, x=\"Date\", y=\"Open\")\n",
    "plt.title(\"USO (Oil) Prices 5y\")\n",
    "plt.ylabel(\"Price per Share $\")\n",
    "\n",
    "plt.figure()\n",
    "\n",
    "sns.lineplot(icln_5y, x=\"Date\", y=\"Open\")\n",
    "plt.title(\"ICLN (Clean Energy) Prices 5y\")\n",
    "plt.ylabel(\"Price per Share $\")"
   ]
  },
  {
   "cell_type": "code",
   "execution_count": null,
   "metadata": {},
   "outputs": [],
   "source": [
    "cor_5y = pearsonr(uso_5y[\"Open\"], icln_5y[\"Open\"])\n",
    "print(f\"The correlation between USO and ICLN over the past 5 years is {round(cor_5y[0], 3)} with a p-value of {round(cor_5y[1], 3)}.\")"
   ]
  },
  {
   "attachments": {},
   "cell_type": "markdown",
   "metadata": {},
   "source": [
    "Now we'll compare them just in 2022."
   ]
  },
  {
   "cell_type": "code",
   "execution_count": null,
   "metadata": {},
   "outputs": [],
   "source": [
    "uso_1y = uso_5y.loc[uso_5y[\"Date\"] > np.datetime64(\"2022-01-01\")]\n",
    "icln_1y = icln_5y.loc[icln_5y[\"Date\"] > np.datetime64(\"2022-01-01\")]"
   ]
  },
  {
   "cell_type": "code",
   "execution_count": null,
   "metadata": {},
   "outputs": [],
   "source": [
    "sns.lineplot(uso_1y, x=\"Date\", y=\"Open\")\n",
    "plt.title(\"USO (Oil) Prices 1y\")\n",
    "plt.ylabel(\"Price per Share $\")\n",
    "\n",
    "plt.figure()\n",
    "\n",
    "sns.lineplot(icln_1y, x=\"Date\", y=\"Open\")\n",
    "plt.title(\"ICLN (Clean Energy) Prices 1y\")\n",
    "plt.ylabel(\"Price per Share $\")"
   ]
  },
  {
   "cell_type": "code",
   "execution_count": null,
   "metadata": {},
   "outputs": [],
   "source": [
    "cor_1y = pearsonr(uso_1y[\"Open\"], icln_1y[\"Open\"])\n",
    "print(f\"The correlation between USO and ICLN over 2022 is {round(cor_1y[0], 3)} with a p-value of {round(cor_1y[1], 3)}.\")"
   ]
  },
  {
   "attachments": {},
   "cell_type": "markdown",
   "metadata": {},
   "source": [
    "Now we'll check if the volume of trades between the two ETFs is significantly different"
   ]
  },
  {
   "cell_type": "code",
   "execution_count": null,
   "metadata": {},
   "outputs": [],
   "source": [
    "fig, axs = plt.subplots(1, 2, figsize=(10, 5))\n",
    "\n",
    "sns.histplot(uso_5y.Volume, bins=\"sturges\", ax=axs[0])\n",
    "sns.histplot(icln_5y.Volume, bins=\"sturges\", ax=axs[1])\n",
    "\n",
    "axs[0].set_title(\"USO 5y Volume Distribution\")\n",
    "axs[1].set_title(\"ICLN 5y Volume Distribution\")\n",
    "\n",
    "plt.tight_layout()"
   ]
  },
  {
   "cell_type": "code",
   "execution_count": null,
   "metadata": {},
   "outputs": [],
   "source": [
    "print(f\"The USO mean trading volume over the past 5 years is {round(uso_5y.Volume.mean())}.\")\n",
    "print(f\"The ICLN mean trading volume over the past 5 years is {round(icln_5y.Volume.mean())}.\")"
   ]
  },
  {
   "cell_type": "code",
   "execution_count": null,
   "metadata": {},
   "outputs": [],
   "source": [
    "ttest_ind(uso_5y.Volume, icln_5y.Volume)"
   ]
  },
  {
   "cell_type": "code",
   "execution_count": null,
   "metadata": {},
   "outputs": [],
   "source": [
    "fig, axs = plt.subplots(1, 2, figsize=(10,5))\n",
    "\n",
    "sns.histplot(uso_1y.Volume, bins=\"sturges\", ax=axs[0])\n",
    "sns.histplot(icln_1y.Volume, bins=\"sturges\", ax=axs[1])\n",
    "\n",
    "axs[0].set_title(\"USO 2022 Volume Distribution\")\n",
    "axs[1].set_title(\"ICLN 2022 Volume Distribution\")\n",
    "\n",
    "plt.tight_layout()"
   ]
  },
  {
   "cell_type": "code",
   "execution_count": null,
   "metadata": {},
   "outputs": [],
   "source": [
    "print(f\"The USO mean trading volume over 2022 is {round(uso_1y.Volume.mean())}.\")\n",
    "print(f\"The ICLN mean trading volume over 2022 is {round(icln_1y.Volume.mean())}.\")"
   ]
  },
  {
   "cell_type": "code",
   "execution_count": null,
   "metadata": {},
   "outputs": [],
   "source": [
    "ttest_ind(uso_5y.Volume, icln_5y.Volume)"
   ]
  },
  {
   "attachments": {},
   "cell_type": "markdown",
   "metadata": {},
   "source": [
    "So both ETFs have significantly different mean trade volumes in each respective time period. When looking at 5y, USO has a higher mean, but in 2022 ICLN had a higher trading volume."
   ]
  },
  {
   "attachments": {},
   "cell_type": "markdown",
   "metadata": {},
   "source": [
    "## Looking at Volatility\n",
    "Now we'll check out volatility between the two stocks by looking at the standard deviation of their price. This should probably actually done by percentage of the stocks price, as strictly using the dollar value doesn't tell too much of a story."
   ]
  },
  {
   "cell_type": "code",
   "execution_count": null,
   "metadata": {},
   "outputs": [],
   "source": [
    "print(\"USO 5y sd: \", round(np.std(uso_5y.Open), 3), \"\\n\",\n",
    "    \"ICLN 5y sd: \", round(np.std(icln_5y.Open), 3))"
   ]
  },
  {
   "cell_type": "code",
   "execution_count": null,
   "metadata": {},
   "outputs": [],
   "source": [
    "print(\"USO 1y sd: \", round(np.std(uso_1y.Open), 3), \"\\n\",\n",
    "    \"ICLN 1y sd: \", round(np.std(icln_1y.Open), 3))"
   ]
  }
 ],
 "metadata": {
  "kernelspec": {
   "display_name": "Python 3",
   "language": "python",
   "name": "python3"
  },
  "language_info": {
   "codemirror_mode": {
    "name": "ipython",
    "version": 3
   },
   "file_extension": ".py",
   "mimetype": "text/x-python",
   "name": "python",
   "nbconvert_exporter": "python",
   "pygments_lexer": "ipython3",
   "version": "3.11.2"
  },
  "orig_nbformat": 4,
  "vscode": {
   "interpreter": {
    "hash": "aee8b7b246df8f9039afb4144a1f6fd8d2ca17a180786b69acc140d282b71a49"
   }
  }
 },
 "nbformat": 4,
 "nbformat_minor": 2
}
